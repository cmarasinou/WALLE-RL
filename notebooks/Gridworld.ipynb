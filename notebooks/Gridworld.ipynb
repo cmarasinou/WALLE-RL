{
 "cells": [
  {
   "cell_type": "markdown",
   "metadata": {},
   "source": [
    "This notebook can be found in the repository\n",
    " https://github.com/cmarasinou/WALLE-RL\n",
    " \n",
    "We build a gridworld environment and agent and use Q-learning to make the agent learn.\n",
    "\n",
    "The environment can be any size and have arbitrary obstacles and terminal states."
   ]
  },
  {
   "cell_type": "code",
   "execution_count": 1,
   "metadata": {},
   "outputs": [],
   "source": [
    "import numpy as np\n",
    "import random\n",
    "import matplotlib.pyplot as plt\n",
    "np.random.seed(0)\n",
    "random.seed(0)"
   ]
  },
  {
   "cell_type": "markdown",
   "metadata": {},
   "source": [
    "# 1. The transition model"
   ]
  },
  {
   "cell_type": "code",
   "execution_count": 2,
   "metadata": {},
   "outputs": [],
   "source": [
    "def generate_transition_model(h,w, \n",
    "                              terminal_state_locs, \n",
    "                              impossible_state_locs, \n",
    "                              p_forward = 0.8, \n",
    "                              actions= np.array([(0,-1),(0,+1),(-1,0),(+1,0)], dtype=int)):\n",
    "    '''Defines the transition matrix for a general Gridworld\n",
    "    Args:\n",
    "        h (int): height of the Gridworld\n",
    "        w (int): width of the Gridworld\n",
    "        terminal_state_locs (np.array of ints, dims: 2 x n_terminal_states): the \n",
    "            locations of the terminal states on the grid  \n",
    "        impossible_state_locs (np.array of ints, dims: 2 x n_impossible_states): the \n",
    "            locations of the interior walls on the grid  \n",
    "        p_forward (float, optional): probability of obeying the action signal and moving forward\n",
    "        actions (np.array of ints, dims: 2 x n_actions, optional): actions operations\n",
    "            on state locations, the default corresponds to [LEFT, RIGHT, DOWN, UP]\n",
    "    \n",
    "    Returns:\n",
    "        P (np.array of floats, dims: n_states x n_actions x n_states): Tensor giving the \n",
    "            transition model P(s',a,s) (with the index order described here)\n",
    "    '''\n",
    "    n_states = h*w\n",
    "    n_actions = len(actions)\n",
    "    \n",
    "    # State locations map\n",
    "    s_locs = np.array([(x,y) for x in range(0,h) for y in range(0,w)])\n",
    "    \n",
    "    terminal_states = [state_index(h,w,l) for l in terminal_state_locs]\n",
    "    impossible_states = [state_index(h,w,l) for l in impossible_state_locs]\n",
    "    \n",
    "    # Initialize to zero\n",
    "    P = np.zeros((n_states, n_actions, n_states))\n",
    "    \n",
    "    \n",
    "    \n",
    "    # Generate Transitions\n",
    "    for s in range(n_states):\n",
    "        # For states that can't be reached\n",
    "        if s in impossible_states+terminal_states:\n",
    "                continue\n",
    "        for a in range(n_actions):\n",
    "            sLoc = s_locs[s]\n",
    "            act = actions[a]\n",
    "            act2, act3 = 1-np.abs(act),-(1-np.abs(act))\n",
    "            acts = (act,act2,act3)\n",
    "            probs = (p_forward, (1-p_forward)/2.,(1-p_forward)/2.)\n",
    "            for aa, pp in zip(acts, probs):\n",
    "                spLoc = sLoc+aa\n",
    "                if out_of_bounds(h,w,spLoc, impossible_states):\n",
    "                    spLoc = sLoc\n",
    "                sp = state_index(h,w,spLoc)\n",
    "                P[sp,a,s] += pp\n",
    "    \n",
    "    return P\n",
    "\n",
    "def out_of_bounds(h,w,state_location, impossible_states):\n",
    "    '''Determines whether given state out of bounds'''\n",
    "    if state_location[0] in range(0,h) and state_location[1] in range(0,w):\n",
    "        if state_index(h,w,state_location) in impossible_states:\n",
    "            return True\n",
    "        return False\n",
    "    else:\n",
    "        return True\n",
    "    \n",
    "    \n",
    "def state_index(h,w,s_loc):\n",
    "    '''Maps a state location (tuple) to the state value (integer)'''\n",
    "    return s_loc[0]*w+s_loc[1]"
   ]
  },
  {
   "cell_type": "markdown",
   "metadata": {},
   "source": [
    "## Testing the transition model"
   ]
  },
  {
   "cell_type": "code",
   "execution_count": 3,
   "metadata": {},
   "outputs": [],
   "source": [
    "height, width = 3, 4\n",
    "terminalStates = np.array([(2,3),(1,3)],dtype=int)\n",
    "wallStates = np.array([(1,1)], dtype=int)\n",
    "Ptest = generate_transition_model(height,width,terminalStates, wallStates)"
   ]
  },
  {
   "cell_type": "code",
   "execution_count": 4,
   "metadata": {},
   "outputs": [
    {
     "data": {
      "text/plain": [
       "array([[1., 1., 1., 1., 1., 0., 1., 0., 1., 1., 1., 0.],\n",
       "       [1., 1., 1., 1., 1., 0., 1., 0., 1., 1., 1., 0.],\n",
       "       [1., 1., 1., 1., 1., 0., 1., 0., 1., 1., 1., 0.],\n",
       "       [1., 1., 1., 1., 1., 0., 1., 0., 1., 1., 1., 0.]])"
      ]
     },
     "execution_count": 4,
     "metadata": {},
     "output_type": "execute_result"
    }
   ],
   "source": [
    "# sum of propabilities check. Summing over s'\n",
    "Ptest.sum(0)"
   ]
  },
  {
   "cell_type": "markdown",
   "metadata": {},
   "source": [
    "Other than the terminal and wall states we get probability to sum up to 1"
   ]
  },
  {
   "cell_type": "markdown",
   "metadata": {},
   "source": [
    "# 2. The Environment"
   ]
  },
  {
   "cell_type": "code",
   "execution_count": 5,
   "metadata": {},
   "outputs": [],
   "source": [
    "class GridWorldEnv():\n",
    "    '''Creates a Gridworld environment\n",
    "    Args:\n",
    "        h (int): height of the Gridworld\n",
    "        w (int): width of the Gridworld\n",
    "        rewards_matrix (np.array of floats, dims: h x w)\n",
    "        terminal_state_locs (np.array of ints, dims: 2 x n_terminal_states): the \n",
    "            locations of the terminal states on the grid  \n",
    "        impossible_state_locs (np.array of ints, dims: 2 x n_impossible_states): the \n",
    "            locations of the interior walls on the grid  \n",
    "        p_forward (float, optional): probability of obeying the action signal and moving forward\n",
    "        actions (np.array of ints, dims: 2 x n_actions, optional): actions operations\n",
    "            on state locations, the default corresponds to [LEFT, RIGHT, DOWN, UP]\n",
    "        initial_state (int or str, optional): state at which environment is initialized\n",
    "            can be int corresponding to number of state or str='random'\n",
    "    '''\n",
    "    def __init__(self,h,w, \n",
    "                 rewards_matrix, \n",
    "                 terminal_state_locs, \n",
    "                 impossible_state_locs, \n",
    "                 p_forward=0.8,\n",
    "                 actions=np.array([(0,-1),(0,+1),(-1,0),(+1,0)], dtype=int),\n",
    "                 initial_state=0):\n",
    "\n",
    "        self.n_states = h*w\n",
    "        self.h = h # world height\n",
    "        self.w = w #world width\n",
    "        \n",
    "        # define states\n",
    "        self.initial_state = initial_state \n",
    "        self.current_state= initial_state\n",
    "        self.s_locs = np.array([(x,y) for x in range(0,h) for y in range(0,w)])\n",
    "        self.states = [state_index(h,w,l) for l in self.s_locs]\n",
    "        self.terminal_state_locs = terminal_state_locs\n",
    "        self.impossible_state_locs = impossible_state_locs\n",
    "        self.terminal_states = [state_index(h,w,l) for l in terminal_state_locs]\n",
    "        self.impossible_states = [state_index(h,w,l) for l in impossible_state_locs]\n",
    "\n",
    "        self.regular_states = self.states.copy()\n",
    "        for s in self.terminal_states+self.impossible_states:\n",
    "            self.regular_states.remove(s)\n",
    "        if initial_state == 'random':\n",
    "            self.current_state = random.choice(self.regular_states)\n",
    "        \n",
    "        # define actions\n",
    "        self.n_actions = len(actions)\n",
    "        self.actions = actions\n",
    "        \n",
    "        # define rewards\n",
    "        self.rewards = rewards_matrix.ravel()\n",
    "        self.initial_reward = self.rewards[self.current_state]\n",
    "        \n",
    "        # define transition model\n",
    "        self.p_forward = p_forward\n",
    "        self.transition_model = generate_transition_model(h,w, \n",
    "                                                          terminal_state_locs, \n",
    "                                                          impossible_state_locs,\n",
    "                                                          p_forward)\n",
    "\n",
    "        \n",
    "    def step(self, a):\n",
    "        '''Performs a transition given an action\n",
    "            a (int): the action's index\n",
    "        Returns:\n",
    "            current_state (int)\n",
    "            reward (float)\n",
    "            Bool: If True episode finished and environment re-initialized\n",
    "        '''\n",
    "        # transition to new state\n",
    "        self.current_state = np.random.choice(self.n_states, \n",
    "                     p=self.transition_model[:,a,self.current_state])\n",
    "        if self.current_state in self.terminal_states:\n",
    "            end_state = self.current_state\n",
    "            reward = self.rewards[end_state]\n",
    "            #Reinitialize\n",
    "            if self.initial_state == 'random':\n",
    "                self.current_state = random.choice(self.regular_states)\n",
    "            else:\n",
    "                self.current_state = self.initial_state\n",
    "            return end_state, reward, True # Last bool indicates that episode finished\n",
    "                \n",
    "        return self.current_state, self.rewards[self.current_state], False     "
   ]
  },
  {
   "cell_type": "markdown",
   "metadata": {},
   "source": [
    "## Testing the Environment"
   ]
  },
  {
   "cell_type": "code",
   "execution_count": 6,
   "metadata": {},
   "outputs": [],
   "source": [
    "height, width = 3, 4\n",
    "terminalStates = np.array([(2,3),(1,3)],dtype=int)\n",
    "wallStates = np.array([(1,1)], dtype=int)\n",
    "rewardsMatrix = np.array([ (-0.04, -0.04, -0.04, -0.04),\n",
    "                           (-0.04,  0.0,  -0.04, -1.0),\n",
    "                           (-0.04, -0.04, -0.04,  1.0)])\n",
    "\n",
    "env = GridWorldEnv(3,4, rewardsMatrix, terminalStates,  wallStates)"
   ]
  },
  {
   "cell_type": "code",
   "execution_count": 7,
   "metadata": {
    "scrolled": true
   },
   "outputs": [
    {
     "name": "stdout",
     "output_type": "stream",
     "text": [
      "(1, -0.04, False)\n",
      "(2, -0.04, False)\n",
      "(3, -0.04, False)\n",
      "(3, -0.04, False)\n",
      "(3, -0.04, False)\n"
     ]
    }
   ],
   "source": [
    "# Applying many consecutive actions\n",
    "for i in range(0,5):\n",
    "    print(env.step(1))"
   ]
  },
  {
   "cell_type": "markdown",
   "metadata": {},
   "source": [
    "Environment responds. Episodes can be terminated and environment resets.\n",
    "\n",
    "Let's check on the map of the states and state locations"
   ]
  },
  {
   "cell_type": "code",
   "execution_count": 8,
   "metadata": {},
   "outputs": [
    {
     "data": {
      "text/plain": [
       "array([[ 0, -1],\n",
       "       [ 0,  1],\n",
       "       [-1,  0],\n",
       "       [ 1,  0]])"
      ]
     },
     "execution_count": 8,
     "metadata": {},
     "output_type": "execute_result"
    }
   ],
   "source": [
    "env.actions"
   ]
  },
  {
   "cell_type": "code",
   "execution_count": 9,
   "metadata": {},
   "outputs": [
    {
     "data": {
      "text/plain": [
       "[0, 1, 2, 3, 4, 5, 6, 7, 8, 9, 10, 11]"
      ]
     },
     "execution_count": 9,
     "metadata": {},
     "output_type": "execute_result"
    }
   ],
   "source": [
    "env.states"
   ]
  },
  {
   "cell_type": "code",
   "execution_count": 10,
   "metadata": {},
   "outputs": [
    {
     "data": {
      "text/plain": [
       "array([[0, 0],\n",
       "       [0, 1],\n",
       "       [0, 2],\n",
       "       [0, 3],\n",
       "       [1, 0],\n",
       "       [1, 1],\n",
       "       [1, 2],\n",
       "       [1, 3],\n",
       "       [2, 0],\n",
       "       [2, 1],\n",
       "       [2, 2],\n",
       "       [2, 3]])"
      ]
     },
     "execution_count": 10,
     "metadata": {},
     "output_type": "execute_result"
    }
   ],
   "source": [
    "env.s_locs"
   ]
  },
  {
   "cell_type": "markdown",
   "metadata": {},
   "source": [
    "# 3. The Agent"
   ]
  },
  {
   "cell_type": "code",
   "execution_count": 11,
   "metadata": {},
   "outputs": [],
   "source": [
    "class GridWorldAgent():\n",
    "    '''Creates a Gridworld agent\n",
    "    Args:\n",
    "        policy_matrix (np.array of ints, dims: h x w): the initial policy \n",
    "        actions (np.array of ints, dims: 2 x n_actions, optional): actions operations\n",
    "            on state locations, the default corresponds to [LEFT, RIGHT, DOWN, UP]\n",
    "        action_symbols (np.array of ints, dims: 1 x n_actions, optional):\n",
    "            corresponding action symbols for rendering\n",
    "    '''\n",
    "    def __init__(self,\n",
    "                 policy_matrix, \n",
    "                 actions=np.array([(0,-1),(0,+1),(-1,0),(+1,0)]),\n",
    "                 action_symbols = np.array(['<','>','^','v']),\n",
    "                ):\n",
    "        \n",
    "        #define actions\n",
    "        self.n_actions = len(actions)\n",
    "        self.actions = actions\n",
    "        self.action_symbols = action_symbols\n",
    "        \n",
    "        # Defining policy\n",
    "        if policy_matrix.dtype==int:\n",
    "            self.policy = policy_matrix.ravel()\n",
    "        else:\n",
    "            # when policy is given in symbol notation\n",
    "            self.policy = self.translate_policy(policy_matrix)\n",
    "        self.h, self.w = policy_matrix.shape\n",
    "        \n",
    "    def translate_policy(self,policy_symbols_matrix):\n",
    "        '''Gets policy in symbols. Outputs policy as array of integers'''\n",
    "        policy_symbols = policy_symbols_matrix.ravel()\n",
    "        policy = np.zeros_like(policy_symbols, dtype=int)\n",
    "        for i, symbol in enumerate(policy_symbols):\n",
    "            if symbol is None:\n",
    "                policy[i] = -1\n",
    "            else:\n",
    "                policy[i] = np.argmax(self.action_symbols==symbol)\n",
    "\n",
    "        return policy\n",
    "\n",
    "    def render_policy(self, mask_states = [], custom_policy = None):\n",
    "        '''Prints symbolic version of current policy'''\n",
    "        if custom_policy is not None:\n",
    "            policy_to_render = custom_policy\n",
    "        else:\n",
    "            policy_to_render = self.policy\n",
    "        policy_render = [self.action_symbols[idx] if idx in range(0,len(self.actions)) else '*'\\\n",
    "                    for idx in policy_to_render]\n",
    "        if mask_states is not None:\n",
    "            for state in mask_states:\n",
    "                policy_render[state] = '*'\n",
    "        policy_render = np.array(policy_render).reshape(self.h,self.w)\n",
    "        print(policy_render)\n",
    "        print('\\n')\n",
    "    \n",
    "    def step(self, state, epsilon = None):\n",
    "        '''Agent decides an action given a policy\n",
    "        Args:\n",
    "            state (int)\n",
    "            epsilon (float, optional, 0.0-1.0): greediness\n",
    "        Returns:\n",
    "            action (int)\n",
    "        '''\n",
    "        action = self.policy[state]\n",
    "        if epsilon is not None:\n",
    "            sigma = random.random()\n",
    "            if sigma <= epsilon:\n",
    "                # choose action randomly\n",
    "                actions = list(range(0,self.n_actions))\n",
    "                actions.remove(action)\n",
    "                action = random.choice(actions)\n",
    "        return action"
   ]
  },
  {
   "cell_type": "markdown",
   "metadata": {},
   "source": [
    "## Testing the Agent"
   ]
  },
  {
   "cell_type": "code",
   "execution_count": 12,
   "metadata": {},
   "outputs": [
    {
     "data": {
      "text/plain": [
       "array([0, 0, 0, 0, 0, 0, 0, 0, 0, 0, 0, 0])"
      ]
     },
     "execution_count": 12,
     "metadata": {},
     "output_type": "execute_result"
    }
   ],
   "source": [
    "policy_matrix = np.zeros((3,4),dtype=int)\n",
    "agent = GridWorldAgent(policy_matrix)\n",
    "agent.policy"
   ]
  },
  {
   "cell_type": "code",
   "execution_count": 13,
   "metadata": {},
   "outputs": [
    {
     "name": "stdout",
     "output_type": "stream",
     "text": [
      "[['<' '<' '<' '<']\n",
      " ['<' '<' '<' '<']\n",
      " ['<' '<' '<' '<']]\n",
      "\n",
      "\n"
     ]
    }
   ],
   "source": [
    "agent.render_policy()"
   ]
  },
  {
   "cell_type": "code",
   "execution_count": 14,
   "metadata": {},
   "outputs": [
    {
     "data": {
      "text/plain": [
       "array([ 3,  0,  0,  0,  3, -1,  3, -1,  1,  1,  1, -1])"
      ]
     },
     "execution_count": 14,
     "metadata": {},
     "output_type": "execute_result"
    }
   ],
   "source": [
    "policy_symbols = np.array([['v' ,'<', '<' ,'<'],\n",
    "                           ['v', None ,'v', None],\n",
    "                           ['>' ,'>', '>', None]])\n",
    "agent = GridWorldAgent(policy_symbols)\n",
    "agent.policy"
   ]
  },
  {
   "cell_type": "code",
   "execution_count": 15,
   "metadata": {},
   "outputs": [
    {
     "data": {
      "text/plain": [
       "-1"
      ]
     },
     "execution_count": 15,
     "metadata": {},
     "output_type": "execute_result"
    }
   ],
   "source": [
    "agent.step(5)"
   ]
  },
  {
   "cell_type": "code",
   "execution_count": 16,
   "metadata": {},
   "outputs": [
    {
     "name": "stdout",
     "output_type": "stream",
     "text": [
      "[['v' '<' '<' '<']\n",
      " ['v' '*' 'v' '*']\n",
      " ['>' '>' '>' '*']]\n",
      "\n",
      "\n"
     ]
    }
   ],
   "source": [
    "agent.render_policy()"
   ]
  },
  {
   "cell_type": "markdown",
   "metadata": {},
   "source": [
    "# 4. Q-learning"
   ]
  },
  {
   "cell_type": "code",
   "execution_count": 17,
   "metadata": {},
   "outputs": [],
   "source": [
    "def initialize():\n",
    "    '''Initializes agent, environment\n",
    "    '''\n",
    "    h, w = 3,4\n",
    "    n_states = h*w\n",
    "    n_actions = 4\n",
    "    terminalStates = np.array([(2,3),(1,3)],dtype=int)\n",
    "    wallStates = np.array([(1,1)], dtype=int)\n",
    "    rewardsMatrix = np.array([ (-0.04, -0.04, -0.04, -0.04),\n",
    "                               (-0.04,  0.0,  -0.04, -1.0),\n",
    "                               (-0.04, -0.04, -0.04,  1.0)])\n",
    "    q = np.zeros((n_states,n_actions))\n",
    "    policy_matrix = np.random.randint(0,4,(3,4),dtype=int)\n",
    "    agent = GridWorldAgent(policy_matrix)\n",
    "    env = GridWorldEnv(3,4, rewardsMatrix, terminalStates,  wallStates, initial_state='random', p_forward=0.8)\n",
    "    state = env.current_state\n",
    "    reward = env.initial_reward\n",
    "    episode_finished=False\n",
    "    return agent, env, state, reward, episode_finished"
   ]
  },
  {
   "cell_type": "code",
   "execution_count": 18,
   "metadata": {
    "scrolled": false
   },
   "outputs": [],
   "source": [
    "def update_q(q, alpha, gamma, s, a, rp, sp):\n",
    "    '''Applying q-learning update\n",
    "    Args:\n",
    "        q (np.array of floats, dims: n_states x n_actions) \n",
    "    Returns:\n",
    "        q (np.array of floats, dims: n_states x n_actions): updated q\n",
    "    '''\n",
    "    q[s, a] = q[s, a]+alpha*(rp+gamma*q[sp,:].max()- q[s, a])\n",
    "    return q\n",
    "\n",
    "def update_policy(q):\n",
    "    '''Given the q-matrix gives back the policy\n",
    "    Args:\n",
    "        q (np.array of floats, dims: n_states x n_actions) \n",
    "    Returns:\n",
    "        policy (np.array of ints, dims: n_states): ints represent actions\n",
    "    '''\n",
    "    policy = q.argmax(axis = 1)\n",
    "    return policy\n",
    "\n",
    "def qlearning(convergence_criterion = 30000, alpha=0.1, gamma=0.999, epsilon=None):\n",
    "    '''Performs qlearning\n",
    "    Args:\n",
    "        convergence_criterion (int, optional): number of iterations policy should\n",
    "            stay the same for algorithm to finish\n",
    "        alpha (float, optional)\n",
    "        gamma (float, optional)\n",
    "        epsilon (float, optional)\n",
    "    Returns:\n",
    "        agent and q_values\n",
    "    '''\n",
    "    n_iters = 0\n",
    "    same_policy_iter = 0\n",
    "    n_episodes = 0\n",
    "    q = np.zeros((12,4))\n",
    "    q_values = list()\n",
    "    agent, env, s, r, episode_finished = initialize()\n",
    "    no_action_states = env.impossible_states + env.terminal_states\n",
    "    print('Iteration {} ---- Current policy same for {} iterations'.format(n_iters, same_policy_iter))\n",
    "    agent.render_policy(mask_states=no_action_states)\n",
    "    while same_policy_iter < convergence_criterion:\n",
    "        a = agent.step(s, epsilon=epsilon)\n",
    "        sp, rp, episode_finished = env.step(a)\n",
    "        q = update_q(q, alpha, gamma, s, a, rp, sp)\n",
    "        previous_policy = agent.policy\n",
    "\n",
    "        agent.policy = update_policy(q)\n",
    "        s, r = sp, rp\n",
    "        current_policy = agent.policy\n",
    "        \n",
    "        #previous_policy = previous_policy.ravel()\n",
    "        #previous_policy[no_action_states] = 0\n",
    "        #current_policy = current_policy.ravel()\n",
    "        #current_policy[no_action_states] = 0\n",
    "    \n",
    "        \n",
    "        if np.array_equal(previous_policy, agent.policy):\n",
    "            same_policy_iter += 1\n",
    "        else:\n",
    "            same_policy_iter = 0\n",
    "        n_iters += 1\n",
    "        q_values.append(q.mean())\n",
    "        if n_iters%50000 == 0:\n",
    "            print('Iteration {} ---- Current policy same for {} iterations'.format(n_iters, same_policy_iter))\n",
    "            agent.render_policy(mask_states=no_action_states)\n",
    "        if episode_finished:\n",
    "            n_episodes += 1\n",
    "            s, r = env.current_state, env.initial_reward\n",
    "    print('Final iteration number {}'.format(n_iters))\n",
    "    print('Final policy')\n",
    "    agent.render_policy(mask_states=no_action_states)\n",
    "    return agent, q_values"
   ]
  },
  {
   "cell_type": "code",
   "execution_count": 19,
   "metadata": {
    "scrolled": false
   },
   "outputs": [
    {
     "name": "stdout",
     "output_type": "stream",
     "text": [
      "Iteration 0 ---- Current policy same for 0 iterations\n",
      "[['>' '^' '<' 'v']\n",
      " ['^' '*' '<' '*']\n",
      " ['^' '>' '^' '*']]\n",
      "\n",
      "\n",
      "Final iteration number 30907\n",
      "Final policy\n",
      "[['v' '>' 'v' '<']\n",
      " ['v' '*' 'v' '*']\n",
      " ['>' '>' '>' '*']]\n",
      "\n",
      "\n"
     ]
    }
   ],
   "source": [
    "agent,q_values = qlearning(epsilon=0.005, alpha=0.05, gamma=0.9)"
   ]
  },
  {
   "cell_type": "code",
   "execution_count": 20,
   "metadata": {},
   "outputs": [
    {
     "data": {
      "image/png": "[encoded data removed]",
      "text/plain": [
       "<Figure size 1080x360 with 1 Axes>"
      ]
     },
     "metadata": {},
     "output_type": "display_data"
    }
   ],
   "source": [
    "plt.figure(figsize=(15,5))\n",
    "plt.scatter(range(0,len(q_values)),q_values)\n",
    "plt.title('Q mean value')\n",
    "plt.xlabel('n_iteration')\n",
    "plt.ylabel('mean(q)')\n",
    "plt.show()"
   ]
  },
  {
   "cell_type": "code",
   "execution_count": null,
   "metadata": {},
   "outputs": [],
   "source": []
  }
 ],
 "metadata": {
  "kernelspec": {
   "display_name": "Python 3",
   "language": "python",
   "name": "python3"
  },
  "language_info": {
   "codemirror_mode": {
    "name": "ipython",
    "version": 3
   },
   "file_extension": ".py",
   "mimetype": "text/x-python",
   "name": "python",
   "nbconvert_exporter": "python",
   "pygments_lexer": "ipython3",
   "version": "3.6.9"
  }
 },
 "nbformat": 4,
 "nbformat_minor": 2
}
