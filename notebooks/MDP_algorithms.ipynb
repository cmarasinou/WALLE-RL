{
 "cells": [
  {
   "cell_type": "code",
   "execution_count": 1,
   "metadata": {},
   "outputs": [],
   "source": [
    "import numpy as np\n",
    "import matplotlib.pyplot as plt\n",
    "import pandas as pd"
   ]
  },
  {
   "cell_type": "markdown",
   "metadata": {},
   "source": [
    "# Initializing"
   ]
  },
  {
   "cell_type": "code",
   "execution_count": 2,
   "metadata": {},
   "outputs": [
    {
     "name": "stdout",
     "output_type": "stream",
     "text": [
      "[(0, 0), (0, 1), (0, 2), (0, 3), (1, 0), (1, 1), (1, 2), (1, 3), (2, 0), (2, 1), (2, 2), (2, 3)]\n",
      "[[ 0  1  2  3]\n",
      " [ 4  5  6  7]\n",
      " [ 8  9 10 11]]\n"
     ]
    }
   ],
   "source": [
    "n_states = 12\n",
    "h = 3\n",
    "w = 4\n",
    "states_locations = [(0,0), (0,1), (0,2), (0,3),\n",
    "                    (1,0), (1,1), (1,2),(1,3),\n",
    "                    (2,0), (2,1), (2,2),(2,3)]\n",
    "states_index = np.array([i for i in range(0,n_states)]).reshape(h,w)\n",
    "print(states_locations)\n",
    "print(states_index)\n",
    "terminal_states = [7,11]\n",
    "impossible_states = [5]\n",
    "\n",
    "n_actions = 4\n",
    "# in order E,W, N, S\n",
    "actions = [(0,-1),(0,+1),(-1,0),(+1,0)]\n",
    "action_symbols = np.array(['<','>','^','v'])\n"
   ]
  },
  {
   "cell_type": "code",
   "execution_count": 3,
   "metadata": {},
   "outputs": [],
   "source": [
    "def out_of_bounds(state_location):\n",
    "    '''Finds if state is out of bounds\n",
    "    Args:\n",
    "        state_location (tuple)\n",
    "    Returns:\n",
    "        bool\n",
    "    '''\n",
    "    if state_location[0] in range(0,h) and state_location[1] in range(0,w):\n",
    "        if states_index[state_location] in impossible_states:\n",
    "            return True\n",
    "        return False\n",
    "    else:\n",
    "        return True"
   ]
  },
  {
   "cell_type": "markdown",
   "metadata": {},
   "source": [
    "# Finding transition probabilities\n",
    "Want to construct $P(s'|a,s)$ which is the transition matrix."
   ]
  },
  {
   "cell_type": "code",
   "execution_count": 4,
   "metadata": {},
   "outputs": [],
   "source": [
    "#Initialize P\n",
    "P = np.zeros((n_states,n_actions,n_states))\n",
    "\n",
    "for s in range(0,n_states):\n",
    "    for a in range(0,n_actions):\n",
    "        # Keep zero probability for terminal states or states\n",
    "        # that cannot show up\n",
    "        if s in terminal_states or s in impossible_states:\n",
    "            continue\n",
    "            \n",
    "        \n",
    "        s_location = states_locations[s]\n",
    "        # Resulting Forward\n",
    "        sp_location =  (s_location[0] + actions[a][0],s_location[1] + actions[a][1])\n",
    "        if out_of_bounds(sp_location):\n",
    "            sp_location = s_location\n",
    "        sp = states_index[sp_location]\n",
    "        prob = 0.8\n",
    "        P[sp,a,s]+=prob\n",
    "        \n",
    "        \n",
    "        opposite_actions = 1-np.abs(actions[a])\n",
    "        # Resutling On the side of forward 1\n",
    "        sp_location =  (s_location[0] + opposite_actions[0], s_location[1] +opposite_actions[1])\n",
    "        if out_of_bounds(sp_location):\n",
    "            sp_location = s_location\n",
    "        sp = states_index[sp_location]\n",
    "        prob = 0.1\n",
    "        P[sp,a,s]+=prob\n",
    "\n",
    "        # Resutling On the side of forward 2     \n",
    "        sp_location =  (s_location[0] - opposite_actions[0], s_location[1] -opposite_actions[1])\n",
    "        if out_of_bounds(sp_location):\n",
    "            sp_location = s_location\n",
    "        sp = states_index[sp_location]\n",
    "        prob = 0.1\n",
    "        P[sp,a,s]+=prob"
   ]
  },
  {
   "cell_type": "code",
   "execution_count": 5,
   "metadata": {
    "scrolled": true
   },
   "outputs": [
    {
     "data": {
      "text/plain": [
       "array([[1., 1., 1., 1., 1., 0., 1., 0., 1., 1., 1., 0.],\n",
       "       [1., 1., 1., 1., 1., 0., 1., 0., 1., 1., 1., 0.],\n",
       "       [1., 1., 1., 1., 1., 0., 1., 0., 1., 1., 1., 0.],\n",
       "       [1., 1., 1., 1., 1., 0., 1., 0., 1., 1., 1., 0.]])"
      ]
     },
     "execution_count": 5,
     "metadata": {},
     "output_type": "execute_result"
    }
   ],
   "source": [
    "# Consistency check\n",
    "np.sum(P,0)"
   ]
  },
  {
   "cell_type": "markdown",
   "metadata": {},
   "source": [
    "Probabilities sum up to 1.\n",
    "Exception: Terminal and impossible states"
   ]
  },
  {
   "cell_type": "markdown",
   "metadata": {},
   "source": [
    "# Validating Bellman equations"
   ]
  },
  {
   "cell_type": "code",
   "execution_count": 7,
   "metadata": {},
   "outputs": [],
   "source": [
    "#Utilities for optimal policy\n",
    "u = np.array([0.705, 0.655, 0.611,   0.388,\n",
    "               0.762,   0.0, 0.660,  -1.0,\n",
    "               0.812, 0.868, 0.918,   1.0])\n",
    "\n",
    "rewards = np.array([-0.04, -0.04, -0.04, -0.04,\n",
    "               -0.04, 0.0, -0.04,  -1.0,\n",
    "               -0.04, -0.04, -0.04,   1.0])"
   ]
  },
  {
   "cell_type": "code",
   "execution_count": 8,
   "metadata": {},
   "outputs": [],
   "source": [
    "gamma =1.0\n",
    "new_u =rewards+gamma*np.max(np.matmul(P.T, u),1)"
   ]
  },
  {
   "cell_type": "code",
   "execution_count": 9,
   "metadata": {},
   "outputs": [
    {
     "data": {
      "text/plain": [
       "array([[ 0.7056,  0.655 ,  0.6111,  0.3876],\n",
       "       [ 0.762 ,  0.    ,  0.6604, -1.    ],\n",
       "       [ 0.8118,  0.868 ,  0.9178,  1.    ]])"
      ]
     },
     "execution_count": 9,
     "metadata": {},
     "output_type": "execute_result"
    }
   ],
   "source": [
    "new_u.reshape(3,4)"
   ]
  },
  {
   "cell_type": "markdown",
   "metadata": {},
   "source": [
    "Not exactly the same because the utilities introduced above were truncated to 3 decimal places"
   ]
  },
  {
   "cell_type": "code",
   "execution_count": 10,
   "metadata": {},
   "outputs": [],
   "source": [
    "# make them converge\n",
    "for i in range(0,30):\n",
    "    new_u =rewards+gamma*np.max(np.matmul(P.T, u),1)\n",
    "    u = new_u"
   ]
  },
  {
   "cell_type": "code",
   "execution_count": 11,
   "metadata": {},
   "outputs": [
    {
     "name": "stdout",
     "output_type": "stream",
     "text": [
      "[[ 0.70530822  0.65530822  0.61141553  0.38792491]\n",
      " [ 0.76155822  0.          0.66027397 -1.        ]\n",
      " [ 0.81155822  0.86780822  0.91780822  1.        ]]\n"
     ]
    }
   ],
   "source": [
    "print(new_u.reshape(h,w))"
   ]
  },
  {
   "cell_type": "markdown",
   "metadata": {},
   "source": [
    "# Value iteration"
   ]
  },
  {
   "cell_type": "code",
   "execution_count": 12,
   "metadata": {},
   "outputs": [],
   "source": [
    "def value_iteration(v, t_model, rewards, gamma ,epsilon):\n",
    "    ''' The value iteration algorithm\n",
    "    Args:\n",
    "        v (1d array, (n_states)): initial utility\n",
    "        t_model (3d array, (n_states,n_actions,n_states)): transition model\n",
    "        rewards (1d array, (n_states))\n",
    "    Returns:\n",
    "        vp (1d array, (n_states,)): final utility\n",
    "        df (pd.DataFrame): Keeping intermediate informrmation for later\n",
    "    '''\n",
    "    # Dataframe for saving staff\n",
    "    df = pd.DataFrame([[0]+list(v)],columns=['iter','(0, 0)',\n",
    "                                     '(0, 1)',\n",
    "                                     '(0, 2)',\n",
    "                                     '(0, 3)',\n",
    "                                     '(1, 0)',\n",
    "                                     'x',\n",
    "                                     '(1, 2)',\n",
    "                                     '-1',\n",
    "                                     '(2, 0)',\n",
    "                                     '(2, 1)',\n",
    "                                     '(2, 2)',\n",
    "                                     '1'])\n",
    "\n",
    "    iteration = 0\n",
    "    # computing Bellman update for all states\n",
    "    delta = epsilon*(1-gamma)/gamma+10. # just to make it larger\n",
    "    while delta>epsilon*(1-gamma)/gamma:\n",
    "        iteration +=1\n",
    "        vp =rewards+gamma*np.max(np.matmul(t_model.T, v),1)\n",
    "        delta = (vp-v).max()\n",
    "        v=vp\n",
    "        df.loc[iteration] = [iteration]+list(v)\n",
    "    \n",
    "    return vp, df"
   ]
  },
  {
   "cell_type": "code",
   "execution_count": 13,
   "metadata": {},
   "outputs": [],
   "source": [
    "# apply\n",
    "v_f,df = value_iteration(np.zeros((n_states)),P,rewards,0.99,0.1)"
   ]
  },
  {
   "cell_type": "code",
   "execution_count": 14,
   "metadata": {
    "scrolled": true
   },
   "outputs": [
    {
     "data": {
      "text/html": [
       "<div>\n",
       "<style scoped>\n",
       "    .dataframe tbody tr th:only-of-type {\n",
       "        vertical-align: middle;\n",
       "    }\n",
       "\n",
       "    .dataframe tbody tr th {\n",
       "        vertical-align: top;\n",
       "    }\n",
       "\n",
       "    .dataframe thead th {\n",
       "        text-align: right;\n",
       "    }\n",
       "</style>\n",
       "<table border=\"1\" class=\"dataframe\">\n",
       "  <thead>\n",
       "    <tr style=\"text-align: right;\">\n",
       "      <th></th>\n",
       "      <th>iter</th>\n",
       "      <th>(0, 0)</th>\n",
       "      <th>(0, 1)</th>\n",
       "      <th>(0, 2)</th>\n",
       "      <th>(0, 3)</th>\n",
       "      <th>(1, 0)</th>\n",
       "      <th>x</th>\n",
       "      <th>(1, 2)</th>\n",
       "      <th>-1</th>\n",
       "      <th>(2, 0)</th>\n",
       "      <th>(2, 1)</th>\n",
       "      <th>(2, 2)</th>\n",
       "      <th>1</th>\n",
       "    </tr>\n",
       "  </thead>\n",
       "  <tbody>\n",
       "    <tr>\n",
       "      <th>0</th>\n",
       "      <td>0.0</td>\n",
       "      <td>0.000000</td>\n",
       "      <td>0.000000</td>\n",
       "      <td>0.000000</td>\n",
       "      <td>0.000000</td>\n",
       "      <td>0.000000</td>\n",
       "      <td>0.0</td>\n",
       "      <td>0.000000</td>\n",
       "      <td>0.0</td>\n",
       "      <td>0.000000</td>\n",
       "      <td>0.000000</td>\n",
       "      <td>0.000000</td>\n",
       "      <td>0.0</td>\n",
       "    </tr>\n",
       "    <tr>\n",
       "      <th>1</th>\n",
       "      <td>1.0</td>\n",
       "      <td>-0.040000</td>\n",
       "      <td>-0.040000</td>\n",
       "      <td>-0.040000</td>\n",
       "      <td>-0.040000</td>\n",
       "      <td>-0.040000</td>\n",
       "      <td>0.0</td>\n",
       "      <td>-0.040000</td>\n",
       "      <td>-1.0</td>\n",
       "      <td>-0.040000</td>\n",
       "      <td>-0.040000</td>\n",
       "      <td>-0.040000</td>\n",
       "      <td>1.0</td>\n",
       "    </tr>\n",
       "    <tr>\n",
       "      <th>2</th>\n",
       "      <td>2.0</td>\n",
       "      <td>-0.079600</td>\n",
       "      <td>-0.079600</td>\n",
       "      <td>-0.079600</td>\n",
       "      <td>-0.079600</td>\n",
       "      <td>-0.079600</td>\n",
       "      <td>0.0</td>\n",
       "      <td>-0.079600</td>\n",
       "      <td>-1.0</td>\n",
       "      <td>-0.079600</td>\n",
       "      <td>-0.079600</td>\n",
       "      <td>0.744080</td>\n",
       "      <td>1.0</td>\n",
       "    </tr>\n",
       "    <tr>\n",
       "      <th>3</th>\n",
       "      <td>3.0</td>\n",
       "      <td>-0.118804</td>\n",
       "      <td>-0.118804</td>\n",
       "      <td>-0.118804</td>\n",
       "      <td>-0.118804</td>\n",
       "      <td>-0.118804</td>\n",
       "      <td>0.0</td>\n",
       "      <td>0.442431</td>\n",
       "      <td>-1.0</td>\n",
       "      <td>-0.118804</td>\n",
       "      <td>0.533551</td>\n",
       "      <td>0.817784</td>\n",
       "      <td>1.0</td>\n",
       "    </tr>\n",
       "    <tr>\n",
       "      <th>4</th>\n",
       "      <td>4.0</td>\n",
       "      <td>-0.157616</td>\n",
       "      <td>-0.157616</td>\n",
       "      <td>0.286882</td>\n",
       "      <td>-0.157616</td>\n",
       "      <td>-0.157616</td>\n",
       "      <td>0.0</td>\n",
       "      <td>0.552485</td>\n",
       "      <td>-1.0</td>\n",
       "      <td>0.359049</td>\n",
       "      <td>0.713328</td>\n",
       "      <td>0.876761</td>\n",
       "      <td>1.0</td>\n",
       "    </tr>\n",
       "    <tr>\n",
       "      <th>5</th>\n",
       "      <td>5.0</td>\n",
       "      <td>-0.196040</td>\n",
       "      <td>0.156003</td>\n",
       "      <td>0.366360</td>\n",
       "      <td>0.072607</td>\n",
       "      <td>0.213159</td>\n",
       "      <td>0.0</td>\n",
       "      <td>0.610091</td>\n",
       "      <td>-1.0</td>\n",
       "      <td>0.544897</td>\n",
       "      <td>0.795634</td>\n",
       "      <td>0.893495</td>\n",
       "      <td>1.0</td>\n",
       "    </tr>\n",
       "    <tr>\n",
       "      <th>6</th>\n",
       "      <td>6.0</td>\n",
       "      <td>0.124858</td>\n",
       "      <td>0.281046</td>\n",
       "      <td>0.465824</td>\n",
       "      <td>0.158345</td>\n",
       "      <td>0.433764</td>\n",
       "      <td>0.0</td>\n",
       "      <td>0.629047</td>\n",
       "      <td>-1.0</td>\n",
       "      <td>0.665189</td>\n",
       "      <td>0.825184</td>\n",
       "      <td>0.900855</td>\n",
       "      <td>1.0</td>\n",
       "    </tr>\n",
       "    <tr>\n",
       "      <th>7</th>\n",
       "      <td>7.0</td>\n",
       "      <td>0.343726</td>\n",
       "      <td>0.384580</td>\n",
       "      <td>0.501705</td>\n",
       "      <td>0.245609</td>\n",
       "      <td>0.572715</td>\n",
       "      <td>0.0</td>\n",
       "      <td>0.636753</td>\n",
       "      <td>-1.0</td>\n",
       "      <td>0.722342</td>\n",
       "      <td>0.836864</td>\n",
       "      <td>0.903460</td>\n",
       "      <td>1.0</td>\n",
       "    </tr>\n",
       "    <tr>\n",
       "      <th>8</th>\n",
       "      <td>8.0</td>\n",
       "      <td>0.485693</td>\n",
       "      <td>0.433497</td>\n",
       "      <td>0.526697</td>\n",
       "      <td>0.282666</td>\n",
       "      <td>0.645493</td>\n",
       "      <td>0.0</td>\n",
       "      <td>0.639579</td>\n",
       "      <td>-1.0</td>\n",
       "      <td>0.751007</td>\n",
       "      <td>0.841240</td>\n",
       "      <td>0.904481</td>\n",
       "      <td>1.0</td>\n",
       "    </tr>\n",
       "    <tr>\n",
       "      <th>9</th>\n",
       "      <td>9.0</td>\n",
       "      <td>0.562230</td>\n",
       "      <td>0.462977</td>\n",
       "      <td>0.537447</td>\n",
       "      <td>0.306128</td>\n",
       "      <td>0.682605</td>\n",
       "      <td>0.0</td>\n",
       "      <td>0.640667</td>\n",
       "      <td>-1.0</td>\n",
       "      <td>0.764515</td>\n",
       "      <td>0.842914</td>\n",
       "      <td>0.904862</td>\n",
       "      <td>1.0</td>\n",
       "    </tr>\n",
       "    <tr>\n",
       "      <th>10</th>\n",
       "      <td>10.0</td>\n",
       "      <td>0.602118</td>\n",
       "      <td>0.496955</td>\n",
       "      <td>0.543550</td>\n",
       "      <td>0.316965</td>\n",
       "      <td>0.700652</td>\n",
       "      <td>0.0</td>\n",
       "      <td>0.641077</td>\n",
       "      <td>-1.0</td>\n",
       "      <td>0.770853</td>\n",
       "      <td>0.843548</td>\n",
       "      <td>0.905007</td>\n",
       "      <td>1.0</td>\n",
       "    </tr>\n",
       "    <tr>\n",
       "      <th>11</th>\n",
       "      <td>11.0</td>\n",
       "      <td>0.623725</td>\n",
       "      <td>0.535275</td>\n",
       "      <td>0.548311</td>\n",
       "      <td>0.322871</td>\n",
       "      <td>0.709245</td>\n",
       "      <td>0.0</td>\n",
       "      <td>0.641232</td>\n",
       "      <td>-1.0</td>\n",
       "      <td>0.773769</td>\n",
       "      <td>0.843788</td>\n",
       "      <td>0.905062</td>\n",
       "      <td>1.0</td>\n",
       "    </tr>\n",
       "    <tr>\n",
       "      <th>12</th>\n",
       "      <td>12.0</td>\n",
       "      <td>0.636463</td>\n",
       "      <td>0.559974</td>\n",
       "      <td>0.552813</td>\n",
       "      <td>0.327226</td>\n",
       "      <td>0.713255</td>\n",
       "      <td>0.0</td>\n",
       "      <td>0.641291</td>\n",
       "      <td>-1.0</td>\n",
       "      <td>0.775099</td>\n",
       "      <td>0.843879</td>\n",
       "      <td>0.905083</td>\n",
       "      <td>1.0</td>\n",
       "    </tr>\n",
       "    <tr>\n",
       "      <th>13</th>\n",
       "      <td>13.0</td>\n",
       "      <td>0.643345</td>\n",
       "      <td>0.574953</td>\n",
       "      <td>0.555736</td>\n",
       "      <td>0.331223</td>\n",
       "      <td>0.715103</td>\n",
       "      <td>0.0</td>\n",
       "      <td>0.641314</td>\n",
       "      <td>-1.0</td>\n",
       "      <td>0.775700</td>\n",
       "      <td>0.843914</td>\n",
       "      <td>0.905091</td>\n",
       "      <td>1.0</td>\n",
       "    </tr>\n",
       "    <tr>\n",
       "      <th>14</th>\n",
       "      <td>14.0</td>\n",
       "      <td>0.646973</td>\n",
       "      <td>0.583370</td>\n",
       "      <td>0.557632</td>\n",
       "      <td>0.333934</td>\n",
       "      <td>0.715944</td>\n",
       "      <td>0.0</td>\n",
       "      <td>0.641322</td>\n",
       "      <td>-1.0</td>\n",
       "      <td>0.775969</td>\n",
       "      <td>0.843927</td>\n",
       "      <td>0.905094</td>\n",
       "      <td>1.0</td>\n",
       "    </tr>\n",
       "    <tr>\n",
       "      <th>15</th>\n",
       "      <td>15.0</td>\n",
       "      <td>0.648832</td>\n",
       "      <td>0.587910</td>\n",
       "      <td>0.558740</td>\n",
       "      <td>0.335704</td>\n",
       "      <td>0.716325</td>\n",
       "      <td>0.0</td>\n",
       "      <td>0.641325</td>\n",
       "      <td>-1.0</td>\n",
       "      <td>0.776090</td>\n",
       "      <td>0.843932</td>\n",
       "      <td>0.905095</td>\n",
       "      <td>1.0</td>\n",
       "    </tr>\n",
       "    <tr>\n",
       "      <th>16</th>\n",
       "      <td>16.0</td>\n",
       "      <td>0.649767</td>\n",
       "      <td>0.590281</td>\n",
       "      <td>0.559367</td>\n",
       "      <td>0.336757</td>\n",
       "      <td>0.716495</td>\n",
       "      <td>0.0</td>\n",
       "      <td>0.641327</td>\n",
       "      <td>-1.0</td>\n",
       "      <td>0.776143</td>\n",
       "      <td>0.843934</td>\n",
       "      <td>0.905096</td>\n",
       "      <td>1.0</td>\n",
       "    </tr>\n",
       "    <tr>\n",
       "      <th>17</th>\n",
       "      <td>17.0</td>\n",
       "      <td>0.650229</td>\n",
       "      <td>0.591491</td>\n",
       "      <td>0.559707</td>\n",
       "      <td>0.337358</td>\n",
       "      <td>0.716572</td>\n",
       "      <td>0.0</td>\n",
       "      <td>0.641327</td>\n",
       "      <td>-1.0</td>\n",
       "      <td>0.776167</td>\n",
       "      <td>0.843935</td>\n",
       "      <td>0.905096</td>\n",
       "      <td>1.0</td>\n",
       "    </tr>\n",
       "    <tr>\n",
       "      <th>18</th>\n",
       "      <td>18.0</td>\n",
       "      <td>0.650455</td>\n",
       "      <td>0.592097</td>\n",
       "      <td>0.559887</td>\n",
       "      <td>0.337687</td>\n",
       "      <td>0.716605</td>\n",
       "      <td>0.0</td>\n",
       "      <td>0.641327</td>\n",
       "      <td>-1.0</td>\n",
       "      <td>0.776177</td>\n",
       "      <td>0.843935</td>\n",
       "      <td>0.905096</td>\n",
       "      <td>1.0</td>\n",
       "    </tr>\n",
       "  </tbody>\n",
       "</table>\n",
       "</div>"
      ],
      "text/plain": [
       "    iter    (0, 0)    (0, 1)    (0, 2)    (0, 3)    (1, 0)    x    (1, 2)  \\\n",
       "0    0.0  0.000000  0.000000  0.000000  0.000000  0.000000  0.0  0.000000   \n",
       "1    1.0 -0.040000 -0.040000 -0.040000 -0.040000 -0.040000  0.0 -0.040000   \n",
       "2    2.0 -0.079600 -0.079600 -0.079600 -0.079600 -0.079600  0.0 -0.079600   \n",
       "3    3.0 -0.118804 -0.118804 -0.118804 -0.118804 -0.118804  0.0  0.442431   \n",
       "4    4.0 -0.157616 -0.157616  0.286882 -0.157616 -0.157616  0.0  0.552485   \n",
       "5    5.0 -0.196040  0.156003  0.366360  0.072607  0.213159  0.0  0.610091   \n",
       "6    6.0  0.124858  0.281046  0.465824  0.158345  0.433764  0.0  0.629047   \n",
       "7    7.0  0.343726  0.384580  0.501705  0.245609  0.572715  0.0  0.636753   \n",
       "8    8.0  0.485693  0.433497  0.526697  0.282666  0.645493  0.0  0.639579   \n",
       "9    9.0  0.562230  0.462977  0.537447  0.306128  0.682605  0.0  0.640667   \n",
       "10  10.0  0.602118  0.496955  0.543550  0.316965  0.700652  0.0  0.641077   \n",
       "11  11.0  0.623725  0.535275  0.548311  0.322871  0.709245  0.0  0.641232   \n",
       "12  12.0  0.636463  0.559974  0.552813  0.327226  0.713255  0.0  0.641291   \n",
       "13  13.0  0.643345  0.574953  0.555736  0.331223  0.715103  0.0  0.641314   \n",
       "14  14.0  0.646973  0.583370  0.557632  0.333934  0.715944  0.0  0.641322   \n",
       "15  15.0  0.648832  0.587910  0.558740  0.335704  0.716325  0.0  0.641325   \n",
       "16  16.0  0.649767  0.590281  0.559367  0.336757  0.716495  0.0  0.641327   \n",
       "17  17.0  0.650229  0.591491  0.559707  0.337358  0.716572  0.0  0.641327   \n",
       "18  18.0  0.650455  0.592097  0.559887  0.337687  0.716605  0.0  0.641327   \n",
       "\n",
       "     -1    (2, 0)    (2, 1)    (2, 2)    1  \n",
       "0   0.0  0.000000  0.000000  0.000000  0.0  \n",
       "1  -1.0 -0.040000 -0.040000 -0.040000  1.0  \n",
       "2  -1.0 -0.079600 -0.079600  0.744080  1.0  \n",
       "3  -1.0 -0.118804  0.533551  0.817784  1.0  \n",
       "4  -1.0  0.359049  0.713328  0.876761  1.0  \n",
       "5  -1.0  0.544897  0.795634  0.893495  1.0  \n",
       "6  -1.0  0.665189  0.825184  0.900855  1.0  \n",
       "7  -1.0  0.722342  0.836864  0.903460  1.0  \n",
       "8  -1.0  0.751007  0.841240  0.904481  1.0  \n",
       "9  -1.0  0.764515  0.842914  0.904862  1.0  \n",
       "10 -1.0  0.770853  0.843548  0.905007  1.0  \n",
       "11 -1.0  0.773769  0.843788  0.905062  1.0  \n",
       "12 -1.0  0.775099  0.843879  0.905083  1.0  \n",
       "13 -1.0  0.775700  0.843914  0.905091  1.0  \n",
       "14 -1.0  0.775969  0.843927  0.905094  1.0  \n",
       "15 -1.0  0.776090  0.843932  0.905095  1.0  \n",
       "16 -1.0  0.776143  0.843934  0.905096  1.0  \n",
       "17 -1.0  0.776167  0.843935  0.905096  1.0  \n",
       "18 -1.0  0.776177  0.843935  0.905096  1.0  "
      ]
     },
     "execution_count": 14,
     "metadata": {},
     "output_type": "execute_result"
    }
   ],
   "source": [
    "df"
   ]
  },
  {
   "cell_type": "code",
   "execution_count": 15,
   "metadata": {},
   "outputs": [
    {
     "data": {
      "image/png": "[encoded data removed]",
      "text/plain": [
       "<Figure size 600x400 with 1 Axes>"
      ]
     },
     "metadata": {},
     "output_type": "display_data"
    }
   ],
   "source": [
    "# Plotting all utilities vs iterations\n",
    "plt.figure(dpi = 100)\n",
    "# style\n",
    "plt.style.use('seaborn-whitegrid')\n",
    " \n",
    "# create a color palette\n",
    "palette = plt.get_cmap('tab20')\n",
    " \n",
    "# multiple line plot\n",
    "num=0\n",
    "for column in df.drop('iter', axis=1):\n",
    "    num+=1\n",
    "    plt.plot(df['iter'], df[column], marker='', color=palette(num), linewidth=1.5, alpha=0.9, label=column)\n",
    "\n",
    "# Add legend\n",
    "plt.legend(loc=(0.6,0.1), ncol=2, fontsize=13)\n",
    " \n",
    "# Add titles\n",
    "plt.title(\"Value Iteration\", fontsize=15, fontweight=0, color='black')\n",
    "plt.xlabel(\"Iteration\")\n",
    "plt.ylabel(\"Utility\")\n",
    "plt.ylim(-1.2,1.2)\n",
    "plt.savefig(\"./value_iteration_graph.png\", dpi=600)\n"
   ]
  },
  {
   "cell_type": "markdown",
   "metadata": {},
   "source": [
    "# Policy Evaluation"
   ]
  },
  {
   "cell_type": "code",
   "execution_count": 16,
   "metadata": {},
   "outputs": [],
   "source": [
    "def policy_evaluation(policy, v, t_model, rewards, gamma ,epsilon):\n",
    "    '''The Policy Evaluation Algorithm\n",
    "    Args:\n",
    "        policy (1d array, (n_states)): policy to be evaluated, conmtains integers from 0 to 3\n",
    "        v (1d array, (n_states)): initial utility\n",
    "        t_model (3d array, (n_states,n_actions,n_states)): transition model\n",
    "        rewards (1d array, (n_states))\n",
    "        gamma (float, [0,1]): discounting factor\n",
    "        epsilon (float): algorithm's cutoff\n",
    "    '''\n",
    "    iteration = 0\n",
    "    # computing Bellman update for all states\n",
    "    delta = epsilon*(1-gamma)/gamma+10. # just to make it larger\n",
    "    n_states, n_actions, _ = t_model.shape\n",
    "    t_model_reduced = np.zeros((n_states,n_states))\n",
    "    for s in range(0,n_states):\n",
    "        t_model_reduced[:,s] = t_model[:,policy[s],s]\n",
    "    iteration = 0\n",
    "    # computing Bellman update for all states\n",
    "    delta = epsilon*(1-gamma)/gamma+10. # just to make it larger\n",
    "    while delta>epsilon*(1-gamma)/gamma:\n",
    "        iteration +=1\n",
    "        vp =rewards+gamma*np.matmul(t_model_reduced.T, v)\n",
    "        delta = np.abs((vp-v)).max()\n",
    "        v=vp\n",
    "    return vp"
   ]
  },
  {
   "cell_type": "code",
   "execution_count": 17,
   "metadata": {},
   "outputs": [],
   "source": [
    "def print_policy(policy):\n",
    "    policy = [action_symbols[action] for action in policy]\n",
    "    for st in terminal_states+impossible_states:\n",
    "        policy[st] = str(st)\n",
    "\n",
    "    policy = np.array(policy).reshape(h,w)\n",
    "    \n",
    "    print(policy)"
   ]
  },
  {
   "cell_type": "code",
   "execution_count": 19,
   "metadata": {},
   "outputs": [
    {
     "name": "stdout",
     "output_type": "stream",
     "text": [
      "[['v' '<' 'v' '^']\n",
      " ['>' '5' '<' '7']\n",
      " ['^' 'v' '^' '11']]\n"
     ]
    }
   ],
   "source": [
    "print_policy(np.random.randint(0,4, (12)))"
   ]
  },
  {
   "cell_type": "code",
   "execution_count": 20,
   "metadata": {},
   "outputs": [
    {
     "data": {
      "text/plain": [
       "array([-0.22174635, -0.3022527 , -0.2812457 , -0.86286433, -0.01519858,\n",
       "        0.        ,  0.00993904, -1.        ,  0.03935559,  0.10817151,\n",
       "        0.74833443,  1.        ])"
      ]
     },
     "execution_count": 20,
     "metadata": {},
     "output_type": "execute_result"
    }
   ],
   "source": [
    "policy = np.random.randint(0,4,(12))\n",
    "v = np.zeros((12))\n",
    "gamma = 0.9\n",
    "epsilon = 0.01\n",
    "policy_evaluation(policy, v,P,rewards,gamma,epsilon)"
   ]
  },
  {
   "cell_type": "code",
   "execution_count": 21,
   "metadata": {},
   "outputs": [],
   "source": [
    "def translate_policy(policy_symbols):\n",
    "    policy_symbols = policy_symbols.ravel()\n",
    "    policy = np.zeros_like(policy_symbols, dtype=int)\n",
    "    for i, symbol in enumerate(policy_symbols):\n",
    "        if symbol is None:\n",
    "            policy[i] = 0\n",
    "        else:\n",
    "            policy[i] = np.argmax(action_symbols==symbol)\n",
    "            \n",
    "    return policy"
   ]
  },
  {
   "cell_type": "code",
   "execution_count": 24,
   "metadata": {},
   "outputs": [
    {
     "data": {
      "text/plain": [
       "array([[3, 0, 0, 0],\n",
       "       [3, 0, 3, 0],\n",
       "       [1, 1, 1, 0]])"
      ]
     },
     "execution_count": 24,
     "metadata": {},
     "output_type": "execute_result"
    }
   ],
   "source": [
    "policy_symbols = np.array([['v' ,'<', '<' ,'<'],\n",
    "                             ['v', None ,'v', None],\n",
    "                             ['>' ,'>', '>', None]])\n",
    "translate_policy(policy_symbols).reshape(3,4)"
   ]
  },
  {
   "cell_type": "code",
   "execution_count": 27,
   "metadata": {},
   "outputs": [],
   "source": [
    "policy_symbols = np.array([['v' ,'<', '<' ,'<'],\n",
    "                             ['v', None ,'v', None],\n",
    "                             ['>' ,'>', '>', None]])\n",
    "policy = translate_policy(policy_symbols)\n",
    "gamma = 1.\n",
    "epsilon =0.1\n",
    "v_final = policy_evaluation(policy, v, P, rewards, gamma ,epsilon)"
   ]
  },
  {
   "cell_type": "code",
   "execution_count": 28,
   "metadata": {},
   "outputs": [
    {
     "data": {
      "text/plain": [
       "array([[ 0.70530822,  0.65530822,  0.61141553,  0.38792491],\n",
       "       [ 0.76155822,  0.        ,  0.66027397, -1.        ],\n",
       "       [ 0.81155822,  0.86780822,  0.91780822,  1.        ]])"
      ]
     },
     "execution_count": 28,
     "metadata": {},
     "output_type": "execute_result"
    }
   ],
   "source": [
    "v_final.reshape(h,w)"
   ]
  },
  {
   "cell_type": "markdown",
   "metadata": {},
   "source": [
    "Gives the right values"
   ]
  },
  {
   "cell_type": "markdown",
   "metadata": {},
   "source": [
    "# Policy iteration"
   ]
  },
  {
   "cell_type": "code",
   "execution_count": 29,
   "metadata": {},
   "outputs": [],
   "source": [
    "def policy_iteration(policy, v, t_model,rewards, gamma ,epsilon):\n",
    "    '''The Policy Iteration Algorithm\n",
    "    Args:\n",
    "        policy (1d array, (n_states)): policy to be evaluated, conmtains integers from 0 to 3\n",
    "        v (1d array, (n_states)): initial utility\n",
    "        t_model (3d array, (n_states,n_actions,n_states)): transition model\n",
    "        rewards (1d array, (n_states))\n",
    "        gamma (float, [0,1]): discounting factor\n",
    "        epsilon (float): algorithm's cutoff\n",
    "    '''\n",
    "    policy_same = False\n",
    "    iteration =0\n",
    "    while not policy_same:\n",
    "        iteration +=1\n",
    "        print(iteration)\n",
    "        print_policy(policy)\n",
    "        v = policy_evaluation(policy, v, t_model, rewards, gamma ,epsilon)\n",
    "        print(v.reshape(h,w))\n",
    "        print(\"Policy evaluation complete\")\n",
    "        policy_new = np.argmax(np.matmul(t_model.T, v),1)\n",
    "        policy_same = np.array_equal(policy_new,policy)\n",
    "        policy = policy_new\n",
    "    \n",
    "    return policy_new"
   ]
  },
  {
   "cell_type": "code",
   "execution_count": 32,
   "metadata": {},
   "outputs": [
    {
     "name": "stdout",
     "output_type": "stream",
     "text": [
      "1\n",
      "[['v' 'v' 'v' '^']\n",
      " ['<' '5' '^' '7']\n",
      " ['v' '<' 'v' '11']]\n",
      "[[-370.5437845  -252.67059843 -134.65007452 -134.91518252]\n",
      " [-385.27425152    0.         -119.83119889   -1.        ]\n",
      " [-399.99000095 -399.99000095 -199.59521039    1.        ]]\n",
      "Policy evaluation complete\n",
      "2\n",
      "[['>' '>' '>' 'v']\n",
      " ['^' '5' '>' '7']\n",
      " ['^' '>' '>' '11']]\n",
      "[[-1.18319503 -1.12710653 -1.07724243 -1.05291438]\n",
      " [-1.23304601  0.         -0.87290418 -1.        ]\n",
      " [-1.06289689  0.69727543  0.7473676   1.        ]]\n",
      "Policy evaluation complete\n",
      "3\n",
      "[['>' '>' 'v' 'v']\n",
      " ['v' '5' 'v' '7']\n",
      " ['>' '>' '>' '11']]\n",
      "[[ 0.38527134  0.38834648  0.4384001  -0.88452837]\n",
      " [ 0.76109769  0.          0.66008269 -1.        ]\n",
      " [ 0.81119806  0.86756709  0.91768055  1.        ]]\n",
      "Policy evaluation complete\n",
      "4\n",
      "[['v' '>' 'v' '<']\n",
      " ['v' '5' 'v' '7']\n",
      " ['>' '>' '>' '11']]\n",
      "[[ 0.6904749   0.52622136  0.57629255  0.35666014]\n",
      " [ 0.76109801  0.          0.66008269 -1.        ]\n",
      " [ 0.81119816  0.86756709  0.91768055  1.        ]]\n",
      "Policy evaluation complete\n",
      "5\n",
      "[['v' '<' 'v' '<']\n",
      " ['v' '5' 'v' '7']\n",
      " ['>' '>' '>' '11']]\n",
      "[[ 0.70474394  0.65465683  0.59038743  0.36918752]\n",
      " [ 0.76109801  0.          0.66008269 -1.        ]\n",
      " [ 0.81119816  0.86756709  0.91768055  1.        ]]\n",
      "Policy evaluation complete\n",
      "6\n",
      "[['v' '<' '<' '<']\n",
      " ['v' '5' 'v' '7']\n",
      " ['>' '>' '>' '11']]\n",
      "[[ 0.70474405  0.65465721  0.61074328  0.38727977]\n",
      " [ 0.76109801  0.          0.66008269 -1.        ]\n",
      " [ 0.81119816  0.86756709  0.91768055  1.        ]]\n",
      "Policy evaluation complete\n",
      "Optimal Policy\n",
      "[['v' '<' '<' '<']\n",
      " ['v' '5' 'v' '7']\n",
      " ['>' '>' '>' '11']]\n"
     ]
    }
   ],
   "source": [
    "policy = np.random.randint(0,4,(12))\n",
    "v = np.zeros((12))\n",
    "gamma = 0.9999\n",
    "epsilon = 0.01\n",
    "policy_new = policy_iteration(policy, v, P,rewards, gamma ,epsilon)\n",
    "print('Optimal Policy')\n",
    "print_policy(policy_new)"
   ]
  },
  {
   "cell_type": "code",
   "execution_count": null,
   "metadata": {},
   "outputs": [],
   "source": []
  }
 ],
 "metadata": {
  "kernelspec": {
   "display_name": "Python 3",
   "language": "python",
   "name": "python3"
  },
  "language_info": {
   "codemirror_mode": {
    "name": "ipython",
    "version": 3
   },
   "file_extension": ".py",
   "mimetype": "text/x-python",
   "name": "python",
   "nbconvert_exporter": "python",
   "pygments_lexer": "ipython3",
   "version": "3.6.5"
  }
 },
 "nbformat": 4,
 "nbformat_minor": 2
}
